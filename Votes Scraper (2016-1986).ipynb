{
 "cells": [
  {
   "cell_type": "code",
   "execution_count": 99,
   "metadata": {},
   "outputs": [],
   "source": [
    "from __future__ import print_function, division\n",
    "import pandas as pd\n",
    "import requests\n",
    "import re\n",
    "from bs4 import BeautifulSoup"
   ]
  },
  {
   "cell_type": "code",
   "execution_count": 100,
   "metadata": {},
   "outputs": [
    {
     "name": "stdout",
     "output_type": "stream",
     "text": [
      "[2016, 2015, 2014, 2013, 2012, 2011, 2010, 2009, 2008, 2007, 2006, 2005, 2004, 2003, 2002, 2001, 2000, 1998, 1997, 1996, 1995, 1994, 1993, 1992, 1991, 1990, 1989, 1988, 1987, 1986]\n"
     ]
    }
   ],
   "source": [
    "year_list = [x for x in range(2016,1985,-1) if x != 1999]\n",
    "print(year_list)"
   ]
  },
  {
   "cell_type": "code",
   "execution_count": 101,
   "metadata": {},
   "outputs": [],
   "source": [
    "concat_list = []\n",
    "for year in year_list:\n",
    "    url = 'https://www.basketball-reference.com/allstar/NBA_{}_voting.html'\n",
    "    response = requests.get(url.format(year))\n",
    "    page = response.text\n",
    "    soup = BeautifulSoup(page, \"lxml\")\n",
    "    text_all=''\n",
    "\n",
    "    # scrapes html from website with player name and votes\n",
    "    all = soup.find_all('div', id =re.compile('div_voting-results-'))\n",
    "\n",
    "    # cleans data so player name and votes are separated by commas\n",
    "    for i in range(2):\n",
    "        text_all += all[i].text\n",
    "        string = text_all.replace(\"\\n\",\" \").replace(\"Frontcourt \",\"\").replace(\"Backcourt \",\"\").replace(\"    \",\"\").strip()\n",
    "        string = re.sub(r'\\d+\\.', '',string).strip()\n",
    "        string = re.sub(r'\\s+',' ',string)\n",
    "        string = re.sub(r',','',string)\n",
    "        string = re.sub(r'\\s(\\d*)\\s', r',\\1,',string)\n",
    "        string = re.sub(r'([a-z])\\s(\\d)', r'\\1,\\2',string)\n",
    "\n",
    "    #Takes out first comma, for 2012 and before\n",
    "    string = re.sub(r'Guard |Center |Forward ', ',',string)\n",
    "    if string[0] == \",\":\n",
    "        string = re.sub(r'Guard |Center |Forward ', ',',string)[1:]\n",
    "\n",
    "    # makes a list with name and votes as elements\n",
    "    all_list = string.split(\",\")\n",
    "\n",
    "    # makes a list of list with name and vote grouped together. inserted year to first index\n",
    "    new_list = []\n",
    "    it = iter(all_list)\n",
    "    for x in it:\n",
    "        new_list.append([x, int(next(it))])\n",
    "    for player_vote in new_list:\n",
    "        player_vote.insert(0,year)\n",
    "\n",
    "    df = pd.DataFrame(new_list, columns=['Year', 'Player','Votes'])\n",
    "    concat_list.append(df)"
   ]
  },
  {
   "cell_type": "code",
   "execution_count": 102,
   "metadata": {},
   "outputs": [
    {
     "data": {
      "text/html": [
       "<div>\n",
       "<style scoped>\n",
       "    .dataframe tbody tr th:only-of-type {\n",
       "        vertical-align: middle;\n",
       "    }\n",
       "\n",
       "    .dataframe tbody tr th {\n",
       "        vertical-align: top;\n",
       "    }\n",
       "\n",
       "    .dataframe thead th {\n",
       "        text-align: right;\n",
       "    }\n",
       "</style>\n",
       "<table border=\"1\" class=\"dataframe\">\n",
       "  <thead>\n",
       "    <tr style=\"text-align: right;\">\n",
       "      <th></th>\n",
       "      <th>Year</th>\n",
       "      <th>Player</th>\n",
       "      <th>Votes</th>\n",
       "    </tr>\n",
       "  </thead>\n",
       "  <tbody>\n",
       "    <tr>\n",
       "      <th>0</th>\n",
       "      <td>2016</td>\n",
       "      <td>LeBron James</td>\n",
       "      <td>1089206</td>\n",
       "    </tr>\n",
       "    <tr>\n",
       "      <th>1</th>\n",
       "      <td>2016</td>\n",
       "      <td>Paul George</td>\n",
       "      <td>711595</td>\n",
       "    </tr>\n",
       "    <tr>\n",
       "      <th>2</th>\n",
       "      <td>2016</td>\n",
       "      <td>Carmelo Anthony</td>\n",
       "      <td>567348</td>\n",
       "    </tr>\n",
       "    <tr>\n",
       "      <th>3</th>\n",
       "      <td>2016</td>\n",
       "      <td>Pau Gasol</td>\n",
       "      <td>566988</td>\n",
       "    </tr>\n",
       "    <tr>\n",
       "      <th>4</th>\n",
       "      <td>2016</td>\n",
       "      <td>Andre Drummond</td>\n",
       "      <td>515296</td>\n",
       "    </tr>\n",
       "  </tbody>\n",
       "</table>\n",
       "</div>"
      ],
      "text/plain": [
       "   Year           Player    Votes\n",
       "0  2016     LeBron James  1089206\n",
       "1  2016      Paul George   711595\n",
       "2  2016  Carmelo Anthony   567348\n",
       "3  2016        Pau Gasol   566988\n",
       "4  2016   Andre Drummond   515296"
      ]
     },
     "execution_count": 102,
     "metadata": {},
     "output_type": "execute_result"
    }
   ],
   "source": [
    "df_concat = pd.concat(concat_list, axis=0)\n",
    "df_concat.head()"
   ]
  },
  {
   "cell_type": "code",
   "execution_count": 104,
   "metadata": {},
   "outputs": [
    {
     "data": {
      "text/html": [
       "<div>\n",
       "<style scoped>\n",
       "    .dataframe tbody tr th:only-of-type {\n",
       "        vertical-align: middle;\n",
       "    }\n",
       "\n",
       "    .dataframe tbody tr th {\n",
       "        vertical-align: top;\n",
       "    }\n",
       "\n",
       "    .dataframe thead th {\n",
       "        text-align: right;\n",
       "    }\n",
       "</style>\n",
       "<table border=\"1\" class=\"dataframe\">\n",
       "  <thead>\n",
       "    <tr style=\"text-align: right;\">\n",
       "      <th></th>\n",
       "      <th>Year</th>\n",
       "      <th>Player</th>\n",
       "      <th>Votes</th>\n",
       "    </tr>\n",
       "  </thead>\n",
       "  <tbody>\n",
       "    <tr>\n",
       "      <th>0</th>\n",
       "      <td>2016</td>\n",
       "      <td>Kobe Bryant</td>\n",
       "      <td>1891614</td>\n",
       "    </tr>\n",
       "    <tr>\n",
       "      <th>1</th>\n",
       "      <td>2016</td>\n",
       "      <td>Stephen Curry</td>\n",
       "      <td>1604325</td>\n",
       "    </tr>\n",
       "    <tr>\n",
       "      <th>2</th>\n",
       "      <td>2016</td>\n",
       "      <td>LeBron James</td>\n",
       "      <td>1089206</td>\n",
       "    </tr>\n",
       "    <tr>\n",
       "      <th>3</th>\n",
       "      <td>2016</td>\n",
       "      <td>Kevin Durant</td>\n",
       "      <td>980787</td>\n",
       "    </tr>\n",
       "    <tr>\n",
       "      <th>4</th>\n",
       "      <td>2016</td>\n",
       "      <td>Dwyane Wade</td>\n",
       "      <td>941466</td>\n",
       "    </tr>\n",
       "  </tbody>\n",
       "</table>\n",
       "</div>"
      ],
      "text/plain": [
       "   Year         Player    Votes\n",
       "0  2016    Kobe Bryant  1891614\n",
       "1  2016  Stephen Curry  1604325\n",
       "2  2016   LeBron James  1089206\n",
       "3  2016   Kevin Durant   980787\n",
       "4  2016    Dwyane Wade   941466"
      ]
     },
     "execution_count": 104,
     "metadata": {},
     "output_type": "execute_result"
    }
   ],
   "source": [
    "df_sort = df_concat.sort_values(['Year', 'Votes'], ascending=[False, False]).reset_index(drop=True)\n",
    "df_sort.head()"
   ]
  },
  {
   "cell_type": "code",
   "execution_count": 105,
   "metadata": {},
   "outputs": [
    {
     "data": {
      "text/plain": [
       "['Year', 'Player', 'Votes']"
      ]
     },
     "execution_count": 105,
     "metadata": {},
     "output_type": "execute_result"
    }
   ],
   "source": [
    "list(df_sort)"
   ]
  },
  {
   "cell_type": "code",
   "execution_count": null,
   "metadata": {},
   "outputs": [],
   "source": []
  }
 ],
 "metadata": {
  "kernelspec": {
   "display_name": "Python 3",
   "language": "python",
   "name": "python3"
  },
  "language_info": {
   "codemirror_mode": {
    "name": "ipython",
    "version": 3
   },
   "file_extension": ".py",
   "mimetype": "text/x-python",
   "name": "python",
   "nbconvert_exporter": "python",
   "pygments_lexer": "ipython3",
   "version": "3.7.2"
  }
 },
 "nbformat": 4,
 "nbformat_minor": 2
}
