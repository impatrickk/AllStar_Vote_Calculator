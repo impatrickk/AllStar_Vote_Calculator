{
 "cells": [
  {
   "cell_type": "markdown",
   "metadata": {},
   "source": [
    "# 1. RUN THESE FIRST"
   ]
  },
  {
   "cell_type": "code",
   "execution_count": 1,
   "metadata": {},
   "outputs": [],
   "source": [
    "from __future__ import print_function, division\n",
    "import pandas as pd\n",
    "import requests\n",
    "import re\n",
    "from bs4 import BeautifulSoup"
   ]
  },
  {
   "cell_type": "code",
   "execution_count": 2,
   "metadata": {},
   "outputs": [
    {
     "name": "stdout",
     "output_type": "stream",
     "text": [
      "[2016, 2015, 2014, 2013, 2012, 2011, 2010, 2009, 2008, 2007, 2006, 2005, 2004, 2003, 2002, 2001, 2000, 1998, 1997, 1996, 1995, 1994, 1993, 1992, 1991, 1990, 1989, 1988, 1987, 1986]\n"
     ]
    }
   ],
   "source": [
    "year_list = [x for x in range(2016,1985,-1) if x != 1999]\n",
    "print(year_list)"
   ]
  },
  {
   "cell_type": "markdown",
   "metadata": {},
   "source": [
    "## (SKIP) Vote List"
   ]
  },
  {
   "cell_type": "code",
   "execution_count": 3,
   "metadata": {},
   "outputs": [],
   "source": [
    "concat_list = []\n",
    "for year in year_list:\n",
    "    url = 'https://www.basketball-reference.com/allstar/NBA_{}_voting.html'\n",
    "    response = requests.get(url.format(year))\n",
    "    page = response.text\n",
    "    soup = BeautifulSoup(page, \"lxml\")\n",
    "    text_all=''\n",
    "\n",
    "    # scrapes html from website with player name and votes\n",
    "    all = soup.find_all('div', id =re.compile('div_voting-results-'))\n",
    "\n",
    "    # cleans data so player name and votes are separated by commas\n",
    "    for i in range(2):\n",
    "        text_all += all[i].text\n",
    "        string = text_all.replace(\"\\n\",\" \").replace(\"Frontcourt \",\"\").replace(\"Backcourt \",\"\").replace(\"    \",\"\").strip()\n",
    "        string = re.sub(r'\\d+\\.', '',string).strip()\n",
    "        string = re.sub(r'\\s+',' ',string)\n",
    "        string = re.sub(r',','',string)\n",
    "        string = re.sub(r'\\s(\\d*)\\s', r',\\1,',string)\n",
    "        string = re.sub(r'([a-z])\\s(\\d)', r'\\1,\\2',string)\n",
    "\n",
    "    #Takes out first comma, for 2012 and before\n",
    "    string = re.sub(r'Guard |Center |Forward ', ',',string)\n",
    "    if string[0] == \",\":\n",
    "        string = re.sub(r'Guard |Center |Forward ', ',',string)[1:]\n",
    "\n",
    "    # makes a list with name and votes as elements\n",
    "    all_list = string.split(\",\")\n",
    "\n",
    "    # makes a list of list with name and vote grouped together. inserted year to first index\n",
    "    new_list = []\n",
    "    it = iter(all_list)\n",
    "    for x in it:\n",
    "        new_list.append([x, int(next(it))])\n",
    "    for player_vote in new_list:\n",
    "        player_vote.insert(0,year)\n",
    "\n",
    "    df = pd.DataFrame(new_list, columns=['Year', 'Player','Votes'])\n",
    "    concat_list.append(df)\n",
    "\n",
    "df_concat = pd.concat(concat_list, axis=0)"
   ]
  },
  {
   "cell_type": "code",
   "execution_count": 5,
   "metadata": {},
   "outputs": [],
   "source": [
    "# import pickle\n",
    "# # SAVING AS A PICKLE\n",
    "# filename = '2016_votes_pickle'\n",
    "# outfile = open(filename,'wb')\n",
    "# pickle.dump(df_concat,outfile)\n",
    "# outfile.close()"
   ]
  },
  {
   "cell_type": "markdown",
   "metadata": {},
   "source": [
    "# 2. PICKLING"
   ]
  },
  {
   "cell_type": "code",
   "execution_count": 6,
   "metadata": {},
   "outputs": [],
   "source": [
    "# OPENING THE PICKLE FILE\n",
    "import pickle\n",
    "filename = '2016_votes_pickle'\n",
    "infile = open(filename,'rb')\n",
    "df_votes = pickle.load(infile)\n",
    "infile.close()"
   ]
  },
  {
   "cell_type": "code",
   "execution_count": 7,
   "metadata": {},
   "outputs": [
    {
     "data": {
      "text/html": [
       "<div>\n",
       "<style scoped>\n",
       "    .dataframe tbody tr th:only-of-type {\n",
       "        vertical-align: middle;\n",
       "    }\n",
       "\n",
       "    .dataframe tbody tr th {\n",
       "        vertical-align: top;\n",
       "    }\n",
       "\n",
       "    .dataframe thead th {\n",
       "        text-align: right;\n",
       "    }\n",
       "</style>\n",
       "<table border=\"1\" class=\"dataframe\">\n",
       "  <thead>\n",
       "    <tr style=\"text-align: right;\">\n",
       "      <th></th>\n",
       "      <th>Year</th>\n",
       "      <th>Player</th>\n",
       "      <th>Votes</th>\n",
       "    </tr>\n",
       "  </thead>\n",
       "  <tbody>\n",
       "    <tr>\n",
       "      <th>0</th>\n",
       "      <td>2016</td>\n",
       "      <td>LeBron James</td>\n",
       "      <td>1089206</td>\n",
       "    </tr>\n",
       "    <tr>\n",
       "      <th>1</th>\n",
       "      <td>2016</td>\n",
       "      <td>Paul George</td>\n",
       "      <td>711595</td>\n",
       "    </tr>\n",
       "    <tr>\n",
       "      <th>2</th>\n",
       "      <td>2016</td>\n",
       "      <td>Carmelo Anthony</td>\n",
       "      <td>567348</td>\n",
       "    </tr>\n",
       "    <tr>\n",
       "      <th>3</th>\n",
       "      <td>2016</td>\n",
       "      <td>Pau Gasol</td>\n",
       "      <td>566988</td>\n",
       "    </tr>\n",
       "    <tr>\n",
       "      <th>4</th>\n",
       "      <td>2016</td>\n",
       "      <td>Andre Drummond</td>\n",
       "      <td>515296</td>\n",
       "    </tr>\n",
       "  </tbody>\n",
       "</table>\n",
       "</div>"
      ],
      "text/plain": [
       "   Year           Player    Votes\n",
       "0  2016     LeBron James  1089206\n",
       "1  2016      Paul George   711595\n",
       "2  2016  Carmelo Anthony   567348\n",
       "3  2016        Pau Gasol   566988\n",
       "4  2016   Andre Drummond   515296"
      ]
     },
     "execution_count": 7,
     "metadata": {},
     "output_type": "execute_result"
    }
   ],
   "source": [
    "df_votes.head()"
   ]
  },
  {
   "cell_type": "markdown",
   "metadata": {},
   "source": [
    "## STATS TIME (WARNING- LONG RUNTIME)"
   ]
  },
  {
   "cell_type": "code",
   "execution_count": 8,
   "metadata": {},
   "outputs": [],
   "source": [
    "##################################\n",
    "###     DO NOT RUN THIS CODE   ###\n",
    "### IT WILL TAKE A LOT OF TIME ###\n",
    "##################################\n",
    "\n",
    "\n",
    "lists_of_stats = []\n",
    "for year in year_list:\n",
    "    url_player = 'https://www.basketball-reference.com/allstar/NBA_{}_voting.html'\n",
    "    response_player = requests.get(url_player.format(year))\n",
    "    page = response_player.text\n",
    "    soup_player = BeautifulSoup(page, \"lxml\")\n",
    "    list_links = []\n",
    "    for j in range(2):\n",
    "        for i in range(25):\n",
    "            list_links.append(soup_player.find_all('div', id =re.compile('div_voting-results-'))[j].find_all('a')[i]['href'])\n",
    "    for stats_link in list_links:\n",
    "        url_stats_new = 'https://www.basketball-reference.com{}'\n",
    "        response_stats_new = requests.get(url_stats_new.format(stats_link))\n",
    "        page_stats_new = response_stats_new.text\n",
    "        soup_stats_new = BeautifulSoup(page_stats_new, \"lxml\")\n",
    "        pergame = soup_stats_new.find('tr', id =('per_game.'+ str(year)))\n",
    "        pergame_diff = soup_stats_new.find('tr', id =('per_game.'+ str(year-1))) #added\n",
    "        if pergame:\n",
    "            find_pergame = pergame.find_all(\n",
    "                lambda tag: tag.name == 'td' and tag['data-stat'])\n",
    "            stat_list = []\n",
    "            for stat in range(len(find_pergame)):\n",
    "                stat_list.append(find_pergame[stat].text)\n",
    "                \n",
    "            if pergame_diff: # added\n",
    "                find_pergame_diff = pergame_diff.find_all(\n",
    "                lambda tag: tag.name == 'td' and tag['data-stat'])\n",
    "                stat_list.append(find_pergame_diff[-1].text)\n",
    "            else:\n",
    "                stat_list.append(\"None\")\n",
    "                                 \n",
    "            if pergame.find_all(class_ = \"sr_star\"):\n",
    "                stat_list.append(1)\n",
    "            else:\n",
    "                stat_list.append(0)\n",
    "        else:\n",
    "            stat_list = [0]*30\n",
    "#         stat_list.insert(0,f + \" \" + l)\n",
    "        stat_list.insert(0,year)\n",
    "        lists_of_stats.append(stat_list)"
   ]
  },
  {
   "cell_type": "code",
   "execution_count": 9,
   "metadata": {},
   "outputs": [],
   "source": [
    "# import pickle\n",
    "# filename2 = '2016_stats_pickle'\n",
    "# outfile2 = open(filename2,'wb')\n",
    "# pickle.dump(lists_of_stats,outfile2)\n",
    "# outfile2.close()"
   ]
  },
  {
   "cell_type": "markdown",
   "metadata": {},
   "source": [
    "# 3. IMPORT PICKLE FOR STATS TIME"
   ]
  },
  {
   "cell_type": "code",
   "execution_count": 10,
   "metadata": {},
   "outputs": [],
   "source": [
    "# OPENING THE PICKLE FILE\n",
    "import pickle\n",
    "filename2 = '2016_stats_pickle'\n",
    "infile = open(filename2,'rb')\n",
    "stats_list = pickle.load(infile)\n",
    "infile.close()"
   ]
  },
  {
   "cell_type": "code",
   "execution_count": 11,
   "metadata": {},
   "outputs": [],
   "source": [
    "df_stats = pd.DataFrame(stats_list, columns=['Year', 'Age','Team','League','Pos','GP','GS', 'MP','FG','FGA','FG%','3P','3PA','3P%','2P','2PA','2P%','eFG%','FT','FTA','FT%','ORB','DRB','TRB','AST','STL','BLK','TOV','PF','PTS','Prev_PTS','Star',])"
   ]
  },
  {
   "cell_type": "code",
   "execution_count": 12,
   "metadata": {},
   "outputs": [],
   "source": [
    "df_votes_r = df_votes.reset_index()"
   ]
  },
  {
   "cell_type": "code",
   "execution_count": 13,
   "metadata": {},
   "outputs": [],
   "source": [
    "new_index = [x for x in range(50)]*30\n",
    "df_stats_r = df_stats.reset_index()\n",
    "df_stats_r['index'] = new_index"
   ]
  },
  {
   "cell_type": "code",
   "execution_count": 14,
   "metadata": {},
   "outputs": [
    {
     "data": {
      "text/html": [
       "<div>\n",
       "<style scoped>\n",
       "    .dataframe tbody tr th:only-of-type {\n",
       "        vertical-align: middle;\n",
       "    }\n",
       "\n",
       "    .dataframe tbody tr th {\n",
       "        vertical-align: top;\n",
       "    }\n",
       "\n",
       "    .dataframe thead th {\n",
       "        text-align: right;\n",
       "    }\n",
       "</style>\n",
       "<table border=\"1\" class=\"dataframe\">\n",
       "  <thead>\n",
       "    <tr style=\"text-align: right;\">\n",
       "      <th></th>\n",
       "      <th>Year</th>\n",
       "      <th>Player</th>\n",
       "      <th>Votes</th>\n",
       "      <th>Age</th>\n",
       "      <th>Team</th>\n",
       "      <th>League</th>\n",
       "      <th>Pos</th>\n",
       "      <th>GP</th>\n",
       "      <th>GS</th>\n",
       "      <th>MP</th>\n",
       "      <th>...</th>\n",
       "      <th>DRB</th>\n",
       "      <th>TRB</th>\n",
       "      <th>AST</th>\n",
       "      <th>STL</th>\n",
       "      <th>BLK</th>\n",
       "      <th>TOV</th>\n",
       "      <th>PF</th>\n",
       "      <th>PTS</th>\n",
       "      <th>Prev_PTS</th>\n",
       "      <th>Star</th>\n",
       "    </tr>\n",
       "  </thead>\n",
       "  <tbody>\n",
       "    <tr>\n",
       "      <th>0</th>\n",
       "      <td>2016</td>\n",
       "      <td>LeBron James</td>\n",
       "      <td>1089206</td>\n",
       "      <td>31</td>\n",
       "      <td>CLE</td>\n",
       "      <td>NBA</td>\n",
       "      <td>SF</td>\n",
       "      <td>76</td>\n",
       "      <td>76</td>\n",
       "      <td>35.6</td>\n",
       "      <td>...</td>\n",
       "      <td>6.0</td>\n",
       "      <td>7.4</td>\n",
       "      <td>6.8</td>\n",
       "      <td>1.4</td>\n",
       "      <td>0.6</td>\n",
       "      <td>3.3</td>\n",
       "      <td>1.9</td>\n",
       "      <td>25.3</td>\n",
       "      <td>25.3</td>\n",
       "      <td>1.0</td>\n",
       "    </tr>\n",
       "    <tr>\n",
       "      <th>1</th>\n",
       "      <td>2016</td>\n",
       "      <td>Paul George</td>\n",
       "      <td>711595</td>\n",
       "      <td>25</td>\n",
       "      <td>IND</td>\n",
       "      <td>NBA</td>\n",
       "      <td>SF</td>\n",
       "      <td>81</td>\n",
       "      <td>81</td>\n",
       "      <td>34.8</td>\n",
       "      <td>...</td>\n",
       "      <td>6.0</td>\n",
       "      <td>7.0</td>\n",
       "      <td>4.1</td>\n",
       "      <td>1.9</td>\n",
       "      <td>0.4</td>\n",
       "      <td>3.3</td>\n",
       "      <td>2.8</td>\n",
       "      <td>23.1</td>\n",
       "      <td>8.8</td>\n",
       "      <td>1.0</td>\n",
       "    </tr>\n",
       "    <tr>\n",
       "      <th>2</th>\n",
       "      <td>2016</td>\n",
       "      <td>Carmelo Anthony</td>\n",
       "      <td>567348</td>\n",
       "      <td>31</td>\n",
       "      <td>NYK</td>\n",
       "      <td>NBA</td>\n",
       "      <td>SF</td>\n",
       "      <td>72</td>\n",
       "      <td>72</td>\n",
       "      <td>35.1</td>\n",
       "      <td>...</td>\n",
       "      <td>6.4</td>\n",
       "      <td>7.7</td>\n",
       "      <td>4.2</td>\n",
       "      <td>0.9</td>\n",
       "      <td>0.5</td>\n",
       "      <td>2.4</td>\n",
       "      <td>2.5</td>\n",
       "      <td>21.8</td>\n",
       "      <td>24.2</td>\n",
       "      <td>1.0</td>\n",
       "    </tr>\n",
       "    <tr>\n",
       "      <th>3</th>\n",
       "      <td>2016</td>\n",
       "      <td>Pau Gasol</td>\n",
       "      <td>566988</td>\n",
       "      <td>35</td>\n",
       "      <td>CHI</td>\n",
       "      <td>NBA</td>\n",
       "      <td>C</td>\n",
       "      <td>72</td>\n",
       "      <td>72</td>\n",
       "      <td>31.8</td>\n",
       "      <td>...</td>\n",
       "      <td>8.9</td>\n",
       "      <td>11.0</td>\n",
       "      <td>4.1</td>\n",
       "      <td>0.6</td>\n",
       "      <td>2.0</td>\n",
       "      <td>2.3</td>\n",
       "      <td>2.1</td>\n",
       "      <td>16.5</td>\n",
       "      <td>18.5</td>\n",
       "      <td>1.0</td>\n",
       "    </tr>\n",
       "    <tr>\n",
       "      <th>4</th>\n",
       "      <td>2016</td>\n",
       "      <td>Andre Drummond</td>\n",
       "      <td>515296</td>\n",
       "      <td>22</td>\n",
       "      <td>DET</td>\n",
       "      <td>NBA</td>\n",
       "      <td>C</td>\n",
       "      <td>81</td>\n",
       "      <td>81</td>\n",
       "      <td>32.9</td>\n",
       "      <td>...</td>\n",
       "      <td>9.9</td>\n",
       "      <td>14.8</td>\n",
       "      <td>0.8</td>\n",
       "      <td>1.5</td>\n",
       "      <td>1.4</td>\n",
       "      <td>1.9</td>\n",
       "      <td>3.0</td>\n",
       "      <td>16.2</td>\n",
       "      <td>13.8</td>\n",
       "      <td>1.0</td>\n",
       "    </tr>\n",
       "  </tbody>\n",
       "</table>\n",
       "<p>5 rows × 34 columns</p>\n",
       "</div>"
      ],
      "text/plain": [
       "   Year           Player    Votes Age Team League Pos  GP  GS    MP ...   DRB  \\\n",
       "0  2016     LeBron James  1089206  31  CLE    NBA  SF  76  76  35.6 ...   6.0   \n",
       "1  2016      Paul George   711595  25  IND    NBA  SF  81  81  34.8 ...   6.0   \n",
       "2  2016  Carmelo Anthony   567348  31  NYK    NBA  SF  72  72  35.1 ...   6.4   \n",
       "3  2016        Pau Gasol   566988  35  CHI    NBA   C  72  72  31.8 ...   8.9   \n",
       "4  2016   Andre Drummond   515296  22  DET    NBA   C  81  81  32.9 ...   9.9   \n",
       "\n",
       "    TRB  AST  STL  BLK  TOV   PF   PTS Prev_PTS Star  \n",
       "0   7.4  6.8  1.4  0.6  3.3  1.9  25.3     25.3  1.0  \n",
       "1   7.0  4.1  1.9  0.4  3.3  2.8  23.1      8.8  1.0  \n",
       "2   7.7  4.2  0.9  0.5  2.4  2.5  21.8     24.2  1.0  \n",
       "3  11.0  4.1  0.6  2.0  2.3  2.1  16.5     18.5  1.0  \n",
       "4  14.8  0.8  1.5  1.4  1.9  3.0  16.2     13.8  1.0  \n",
       "\n",
       "[5 rows x 34 columns]"
      ]
     },
     "execution_count": 14,
     "metadata": {},
     "output_type": "execute_result"
    }
   ],
   "source": [
    "df_merge_2016 = df_votes_r.merge(df_stats_r, how='left',on=['index','Year'])\n",
    "df_merge_2016 = df_merge_2016.drop(columns = 'index')\n",
    "df_merge_2016.head()"
   ]
  },
  {
   "cell_type": "code",
   "execution_count": 16,
   "metadata": {},
   "outputs": [],
   "source": [
    "# import pickle\n",
    "# filename3 = 'df_2016'\n",
    "# outfile3 = open(filename3,'wb')\n",
    "# pickle.dump(df_merge_2016,outfile3)\n",
    "# outfile3.close()"
   ]
  },
  {
   "cell_type": "code",
   "execution_count": null,
   "metadata": {},
   "outputs": [],
   "source": []
  }
 ],
 "metadata": {
  "kernelspec": {
   "display_name": "Python 3",
   "language": "python",
   "name": "python3"
  },
  "language_info": {
   "codemirror_mode": {
    "name": "ipython",
    "version": 3
   },
   "file_extension": ".py",
   "mimetype": "text/x-python",
   "name": "python",
   "nbconvert_exporter": "python",
   "pygments_lexer": "ipython3",
   "version": "3.7.2"
  }
 },
 "nbformat": 4,
 "nbformat_minor": 2
}
